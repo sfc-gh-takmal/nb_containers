{
 "metadata": {
  "kernelspec": {
   "display_name": "Streamlit Notebook",
   "name": "streamlit"
  }
 },
 "nbformat_minor": 5,
 "nbformat": 4,
 "cells": [
  {
   "cell_type": "code",
   "id": "475d706b-ed29-4e78-b82e-86659f55a37e",
   "metadata": {
    "language": "python",
    "name": "cell4",
    "collapsed": false
   },
   "outputs": [],
   "source": "!pip install tensorflow==2.16.1 tensorflow-probability matplotlib tensorflow-probability[tf]",
   "execution_count": null
  },
  {
   "cell_type": "code",
   "id": "3775908f-ca36-4846-8f38-5adca39217f2",
   "metadata": {
    "language": "python",
    "name": "cell1",
    "collapsed": false,
    "codeCollapsed": false
   },
   "source": "import tensorflow as tf\nimport tensorflow_probability as tfp\nimport matplotlib.pyplot as plt\n\n# We can also use Snowpark for our analyses!\nfrom snowflake.snowpark.context import get_active_session\nsession = get_active_session()\n",
   "execution_count": null,
   "outputs": []
  },
  {
   "cell_type": "code",
   "id": "48dabd2d-5348-4bdb-bc0f-f94c730ff4c2",
   "metadata": {
    "language": "python",
    "name": "cell5",
    "collapsed": false
   },
   "outputs": [],
   "source": "import importlib\nprint(importlib.metadata.version('tensorflow_probability'))\nprint(importlib.metadata.version('tensorflow_probability'))",
   "execution_count": null
  },
  {
   "cell_type": "code",
   "id": "5804b19e-0147-49e6-93b9-ff50b4488a6a",
   "metadata": {
    "language": "python",
    "name": "cell6",
    "collapsed": false
   },
   "outputs": [],
   "source": "# Set random seed for reproducibility\ntf.random.set_seed(42)\n\n# Generate synthetic data\ntrue_slope = 0.5\ntrue_intercept = 2.0\nx = tf.random.uniform([100], minval=0, maxval=10)\ny = true_slope * x + true_intercept + tf.random.normal([100], stddev=0.5)\n\n# Define the model using tfp.distributions\nclass LinearRegressionModel(tf.Module):\n    def __init__(self):\n        super().__init__()\n        self.slope = tf.Variable(0., name='slope')\n        self.intercept = tf.Variable(0., name='intercept')\n    \n    def __call__(self, x):\n        return tfp.distributions.Normal(loc=self.slope * x + self.intercept, scale=1.)\n\n# Create the model\nmodel = LinearRegressionModel()\n\n# Define the loss function (negative log likelihood)\ndef loss_fn():\n    return -tf.reduce_mean(model(x).log_prob(y))\n\n# Optimize the model\noptimizer = tf.optimizers.Adam(learning_rate=0.1)",
   "execution_count": null
  },
  {
   "cell_type": "code",
   "id": "b9bf438b-c947-4dca-a9a6-1313c67f73b1",
   "metadata": {
    "language": "python",
    "name": "cell2",
    "collapsed": false
   },
   "outputs": [],
   "source": "for _ in range(1000):\n    with tf.GradientTape() as tape:\n        loss = loss_fn()\n    gradients = tape.gradient(loss, model.trainable_variables)\n    optimizer.apply_gradients(zip(gradients, model.trainable_variables))\n\n# Extract the trained parameters\ntrained_slope = model.slope.numpy()\ntrained_intercept = model.intercept.numpy()",
   "execution_count": null
  },
  {
   "cell_type": "code",
   "id": "bceb768b-d6f7-47d3-a2ad-a98d86bd9343",
   "metadata": {
    "language": "python",
    "name": "cell3",
    "collapsed": false
   },
   "outputs": [],
   "source": "# Print results\nprint(f\"True slope: {true_slope:.4f}, Estimated slope: {trained_slope:.4f}\")\nprint(f\"True intercept: {true_intercept:.4f}, Estimated intercept: {trained_intercept:.4f}\")\n\n# Plot results\nplt.scatter(x, y, label='Data')\nplt.plot(x, trained_slope * x + trained_intercept, color='red', label='Fitted Line')\nplt.legend()\nplt.xlabel('x')\nplt.ylabel('y')\nplt.title('Simple Linear Regression with TensorFlow Probability')\nplt.show()",
   "execution_count": null
  }
 ]
}